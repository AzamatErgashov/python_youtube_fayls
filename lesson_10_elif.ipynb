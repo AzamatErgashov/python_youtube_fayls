{
 "cells": [
  {
   "attachments": {},
   "cell_type": "markdown",
   "metadata": {},
   "source": [
    "# elif"
   ]
  },
  {
   "attachments": {},
   "cell_type": "markdown",
   "metadata": {},
   "source": [
    "# if sharti bajarilmasa elif (else if) ga o'tadi\n",
    "# va unda shart bersak bo'ladi"
   ]
  },
  {
   "attachments": {},
   "cell_type": "markdown",
   "metadata": {},
   "source": [
    "## Elif kalit so'zi \"agar oldingi shartlar to'g'ri bo'lmasa, bu shartni sinab ko'ring\" deyishning pythons usulidir."
   ]
  },
  {
   "attachments": {},
   "cell_type": "markdown",
   "metadata": {},
   "source": [
    "<h4> kalkulator dasturini tuzamiz"
   ]
  },
  {
   "cell_type": "code",
   "execution_count": 1,
   "metadata": {},
   "outputs": [
    {
     "name": "stdout",
     "output_type": "stream",
     "text": [
      "a and b are equal\n"
     ]
    }
   ],
   "source": [
    "a = 33\n",
    "b = 33\n",
    "if b > a:\n",
    "  print(\"b is greater than a\")\n",
    "elif a == b:\n",
    "  print(\"a and b are equal\")\n"
   ]
  },
  {
   "cell_type": "code",
   "execution_count": 3,
   "metadata": {},
   "outputs": [
    {
     "name": "stdout",
     "output_type": "stream",
     "text": [
      "0.5217391304347826\n"
     ]
    }
   ],
   "source": [
    "birinchi_son = int(input(\"sonni kiriting ---> \"))\n",
    "amal = input(\"+ or - or * or / --> \")\n",
    "ikkinchi_son = int(input(\"soni kiriting ---> \"))\n",
    "\n",
    "\n",
    "if amal in \"+\":\n",
    "    print(birinchi_son+ikkinchi_son)\n",
    "elif amal in \"-\":\n",
    "    print(birinchi_son-ikkinchi_son)\n",
    "elif amal in \"*\":\n",
    "    print(birinchi_son*ikkinchi_son)\n",
    "elif amal in \"/\":\n",
    "    print(birinchi_son/ikkinchi_son)    "
   ]
  },
  {
   "cell_type": "code",
   "execution_count": 3,
   "metadata": {},
   "outputs": [
    {
     "name": "stdout",
     "output_type": "stream",
     "text": [
      "javob tugri \n"
     ]
    }
   ],
   "source": [
    "if \"azamat\" == \"Azamat\":\n",
    "    print(\"togri\")\n",
    "elif \"a\" == \"a\":\n",
    "    print(\"javob tugri \")    "
   ]
  },
  {
   "cell_type": "code",
   "execution_count": 5,
   "metadata": {},
   "outputs": [
    {
     "name": "stdout",
     "output_type": "stream",
     "text": [
      "hato javob\n"
     ]
    }
   ],
   "source": [
    "if 10 < 9:\n",
    "    print(True)\n",
    "elif 10 > 9:\n",
    "        print(\"hato javob\")"
   ]
  },
  {
   "cell_type": "code",
   "execution_count": 6,
   "metadata": {},
   "outputs": [],
   "source": [
    "a = int(input())\n",
    "if a == 1234:\n",
    "    print(\"javob oson topilmoqda><\")\n",
    "elif a == 3690:\n",
    "    print(\"kod juda yaxshi ><\")    \n",
    "else:\n",
    "    print(\"kod xato kiritildi\")    "
   ]
  },
  {
   "cell_type": "code",
   "execution_count": null,
   "metadata": {},
   "outputs": [],
   "source": []
  }
 ],
 "metadata": {
  "kernelspec": {
   "display_name": "Python 3",
   "language": "python",
   "name": "python3"
  },
  "language_info": {
   "codemirror_mode": {
    "name": "ipython",
    "version": 3
   },
   "file_extension": ".py",
   "mimetype": "text/x-python",
   "name": "python",
   "nbconvert_exporter": "python",
   "pygments_lexer": "ipython3",
   "version": "3.10.9"
  },
  "orig_nbformat": 4,
  "vscode": {
   "interpreter": {
    "hash": "aee8b7b246df8f9039afb4144a1f6fd8d2ca17a180786b69acc140d282b71a49"
   }
  }
 },
 "nbformat": 4,
 "nbformat_minor": 2
}
