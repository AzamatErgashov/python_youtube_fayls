{
 "cells": [
  {
   "attachments": {},
   "cell_type": "markdown",
   "metadata": {},
   "source": [
    "# Python for loops"
   ]
  },
  {
   "attachments": {},
   "cell_type": "markdown",
   "metadata": {},
   "source": [
    "## For tsikli ketma-ketlikni takrorlash uchun ishlatiladi (ya'ni ro'yxat, kortej, lug'at, to'plam yoki satr).\n",
    "\n",
    "## Bu boshqa dasturlash tillaridagi for kalit so'ziga o'xshamaydi va boshqa ob'ektga yo'naltirilgan dasturlash tillarida bo'lgani kabi iterator usuli kabi ishlaydi.\n",
    "\n",
    "## For tsikli yordamida biz ro'yxatdagi har bir element uchun bir martadan, kortejdan, to'plamdan va hokazolardan iborat bir qator bayonotlarni bajarishimiz mumkin."
   ]
  },
  {
   "cell_type": "code",
   "execution_count": 1,
   "metadata": {},
   "outputs": [
    {
     "name": "stdout",
     "output_type": "stream",
     "text": [
      "apple\n",
      "banana\n",
      "cherry\n"
     ]
    }
   ],
   "source": [
    "fruits = [\"apple\", \"banana\", \"cherry\"]\n",
    "for x in fruits:\n",
    "  print(x)"
   ]
  },
  {
   "attachments": {},
   "cell_type": "markdown",
   "metadata": {},
   "source": [
    "# String orqali aylanish\n",
    "# Hatto satrlar ham takrorlanadigan ob'ektlar bo'lib, ular belgilar ketma-ketligini o'z ichiga oladi:"
   ]
  },
  {
   "cell_type": "code",
   "execution_count": 2,
   "metadata": {},
   "outputs": [
    {
     "name": "stdout",
     "output_type": "stream",
     "text": [
      "b\n",
      "a\n",
      "n\n",
      "a\n",
      "n\n",
      "a\n"
     ]
    }
   ],
   "source": [
    "for x in \"banana\":\n",
    "  print(x)"
   ]
  },
  {
   "attachments": {},
   "cell_type": "markdown",
   "metadata": {},
   "source": [
    "# Tanaffus bayonoti (break)\n",
    "# Break iborasi yordamida biz tsiklni barcha elementlardan o'tib ketmasdan to'xtatishimiz mumkin:"
   ]
  },
  {
   "cell_type": "code",
   "execution_count": 9,
   "metadata": {},
   "outputs": [
    {
     "name": "stdout",
     "output_type": "stream",
     "text": [
      "azamat\n",
      "Akmal\n",
      "alisher\n"
     ]
    }
   ],
   "source": [
    "name = [\"azamat\", \"Akmal\", \"alisher\"]\n",
    "for x in name:\n",
    "  print(x)\n",
    "  if x == \"alisher\":\n",
    "    break"
   ]
  },
  {
   "attachments": {},
   "cell_type": "markdown",
   "metadata": {},
   "source": [
    "<h5>x \"alisher\" bo'lganda tsikldan chiqing :"
   ]
  },
  {
   "cell_type": "code",
   "execution_count": 8,
   "metadata": {},
   "outputs": [
    {
     "name": "stdout",
     "output_type": "stream",
     "text": [
      "azamat\n",
      "Akmal\n"
     ]
    }
   ],
   "source": [
    "name = [\"azamat\", \"Akmal\", \"alisher\"]\n",
    "for x in name:\n",
    "  if x == \"alisher\":\n",
    "    break\n",
    "  print(x)"
   ]
  },
  {
   "attachments": {},
   "cell_type": "markdown",
   "metadata": {},
   "source": [
    "<h4>\"alisher\" bo'lganda tsikldan chiqing x, lekin bu safar tanaffus chop etishdan oldin keladi:"
   ]
  },
  {
   "attachments": {},
   "cell_type": "markdown",
   "metadata": {},
   "source": [
    "# continue"
   ]
  },
  {
   "attachments": {},
   "cell_type": "markdown",
   "metadata": {},
   "source": [
    "## bu ibora bilan biz tashlab ketishimiz yani davom etib ketishimiz mumkin ligini tushinamiz"
   ]
  },
  {
   "cell_type": "code",
   "execution_count": 11,
   "metadata": {},
   "outputs": [
    {
     "name": "stdout",
     "output_type": "stream",
     "text": [
      "olma\n",
      "apelsin\n"
     ]
    }
   ],
   "source": [
    "fruits = [\"olma\", \"nok\", \"apelsin\"]\n",
    "for x in fruits:\n",
    "  if x == \"nok\":\n",
    "    continue\n",
    "  print(x)"
   ]
  },
  {
   "attachments": {},
   "cell_type": "markdown",
   "metadata": {},
   "source": [
    "# The range() Function"
   ]
  },
  {
   "attachments": {},
   "cell_type": "markdown",
   "metadata": {},
   "source": [
    "\n",
    "<h3>Kodlar to'plamini ma'lum bir necha marta aylantirish uchun biz range() funktsiyasidan foydalanishimiz mumkin,\n",
    "<h3>range () funktsiyasi sukut bo'yicha 0 dan boshlanadigan raqamlar ketma-ketligini qaytaradi va 1 ga (sukut bo'yicha) oshiradi va belgilangan raqamda tugaydi."
   ]
  },
  {
   "cell_type": "code",
   "execution_count": 12,
   "metadata": {},
   "outputs": [
    {
     "name": "stdout",
     "output_type": "stream",
     "text": [
      "0\n",
      "1\n",
      "2\n",
      "3\n",
      "4\n",
      "5\n"
     ]
    }
   ],
   "source": [
    "for x in range(6):\n",
    "  print(x)"
   ]
  },
  {
   "attachments": {},
   "cell_type": "markdown",
   "metadata": {},
   "source": [
    "# \n",
    "# E'tibor bering, interval (6) 0 dan 6 gacha bo'lgan qiymatlar emas, balki 0 dan 5 gacha bo'lgan qiymatlardir."
   ]
  },
  {
   "attachments": {},
   "cell_type": "markdown",
   "metadata": {},
   "source": [
    "# chunki range oxirgi elementi olmaydi"
   ]
  },
  {
   "cell_type": "code",
   "execution_count": 13,
   "metadata": {},
   "outputs": [
    {
     "name": "stdout",
     "output_type": "stream",
     "text": [
      "2\n",
      "3\n",
      "4\n",
      "5\n"
     ]
    }
   ],
   "source": [
    "for x in range(2, 6):\n",
    "  print(x)"
   ]
  },
  {
   "attachments": {},
   "cell_type": "markdown",
   "metadata": {},
   "source": [
    "# --------------------------"
   ]
  },
  {
   "attachments": {},
   "cell_type": "markdown",
   "metadata": {},
   "source": [
    "# range () funksiyasi sukut boʻyicha ketma-ketlikni 1 ga oshiradi, biroq uchinchi parametrni qoʻshish orqali oʻsish qiymatini belgilash mumkin: range(2, 30, 3 ) :"
   ]
  },
  {
   "cell_type": "code",
   "execution_count": 1,
   "metadata": {},
   "outputs": [
    {
     "name": "stdout",
     "output_type": "stream",
     "text": [
      "0\n",
      "2\n",
      "4\n",
      "6\n",
      "8\n"
     ]
    }
   ],
   "source": [
    "for i in range(0, 10, 2):\n",
    "    print(i)"
   ]
  },
  {
   "attachments": {},
   "cell_type": "markdown",
   "metadata": {},
   "source": [
    "# natijani ko'rishinggiz mumkin 0 dan 10(ya'ni 9) gacha har 2 tasidan keyin chiqaryapti"
   ]
  },
  {
   "cell_type": "code",
   "execution_count": 15,
   "metadata": {},
   "outputs": [
    {
     "name": "stdout",
     "output_type": "stream",
     "text": [
      "2\n",
      "5\n",
      "8\n",
      "11\n",
      "14\n",
      "17\n",
      "20\n",
      "23\n",
      "26\n",
      "29\n"
     ]
    }
   ],
   "source": [
    "for x in range(2, 30, 3):\n",
    "  print(x)"
   ]
  },
  {
   "cell_type": "code",
   "execution_count": null,
   "metadata": {},
   "outputs": [],
   "source": []
  }
 ],
 "metadata": {
  "kernelspec": {
   "display_name": "Python 3",
   "language": "python",
   "name": "python3"
  },
  "language_info": {
   "codemirror_mode": {
    "name": "ipython",
    "version": 3
   },
   "file_extension": ".py",
   "mimetype": "text/x-python",
   "name": "python",
   "nbconvert_exporter": "python",
   "pygments_lexer": "ipython3",
   "version": "3.10.9"
  },
  "orig_nbformat": 4,
  "vscode": {
   "interpreter": {
    "hash": "aee8b7b246df8f9039afb4144a1f6fd8d2ca17a180786b69acc140d282b71a49"
   }
  }
 },
 "nbformat": 4,
 "nbformat_minor": 2
}
