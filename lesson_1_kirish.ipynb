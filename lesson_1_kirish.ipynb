{
 "cells": [
  {
   "attachments": {},
   "cell_type": "markdown",
   "metadata": {},
   "source": [
    "<h1>kirish"
   ]
  },
  {
   "attachments": {},
   "cell_type": "markdown",
   "metadata": {},
   "source": [
    "Nima uchun Python?\n",
    "\n",
    "\n",
    "* O’rganish uchun juda sodda\n",
    "* Tushunarli sintaksis\n",
    "* Yozilishi qisqa\n",
    "* Ko’p IT kompaniyalar ishlatishi\n",
    "* Kutubxonalarni ochiq va ko’pligi\n",
    "\n",
    "\n",
    "\n",
    "\n",
    "\n",
    "\n",
    "\n",
    "\n",
    "1991 yil Guido Vann Rossle\n",
    "Pythonda nima ishlar qilsa bo’ladi.\n",
    "* Web dasturlash (Django,Flask)\n",
    "* Sun’iy intelekt va kompyuterni o’qitish(scikit-learn,TensorFlow)\n",
    "* Ma’lumotlarni analizi(matplotlib)\n",
    "* Avtomatizatsiyalash(ishlab chiqarish,scriptlar)\n",
    "* Mobile ilovalar yozish mumkin(Kava)\n",
    "\n",
    "\n",
    "\n",
    "\n",
    "\n",
    "\n",
    "\n",
    "\n",
    "Web dasturlash\n",
    "Asosan BackEnd da ishlatiladi. Masalan Saytlarni backend qismini qilishda ma’lumotlar bazasi bilan ishlash va natijalarni json,xml ko’rinishida uzatish. query lar bilan ishlash da qulayligi.\n",
    "Nafaqat backend balkim FrontEnd da ham ishlatsa bo’ladi. Masalan jinja2 bilan hamma qulayliklarga ega.\n",
    "\n",
    "\n",
    "Python tilida yozilgan mashhur dasturlar!\n",
    "* Youtube\n",
    "* Instagram\n",
    "* Pinterest\n",
    "* National Geographic\n",
    "* Dropbox\n",
    "* Google\n",
    "* Spotify\n",
    "* NetFlix\n",
    "* Quora\n",
    "* Uber\n",
    "\n",
    "\n",
    "\n",
    "\n",
    "Sun’iy iltelekt\n",
    "* Videokameralar orqali ko’rish\n",
    "* Haydovchisiz mashina\n",
    "* Google qidirish tizimi\n",
    "* prizma dasturi   va boshqalar ….\n",
    " Ma’lumotlar tahlili\n",
    "Katta hajmdagi ma’lumotlar bilan ishlash , tahlil qilish, grafiklar ko’rinishida ko’rsatish uchun ishlatiladi.\n",
    "\n",
    "\n",
    "\n",
    "\n",
    "Nimadan boshlash kerak? Birinchi bo’lib python dasturini o’rnatamiz. \n",
    "python o’rnatish uchun https://www.python.org/downloads/ ga kiramiz . Systemamizga kerakli talqinini topamiz va yuklab olamiz. Ma’lumot uchun 3.9 talqini bugungi kunda stabildir. Bundan so’ng IDE o’rnatamiz. IDE - Dasturlash tilida ishlash muhitidir. Bizning holatimizda Visual Studio Code, PyCharm, Jupyter Notebook bo’lishi mumkin.\n",
    "Visual Studio Code pakage larida python va pylance\n",
    "\n",
    "\n",
    "\n",
    "\n",
    "va nihoyat Salom dunyoni chiqaramiz! :)\n",
    "\n",
    "\n",
    "print(‘Hello world’)"
   ]
  },
  {
   "attachments": {},
   "cell_type": "markdown",
   "metadata": {},
   "source": [
    "Python PIP nima?\n",
    "\n",
    "\n",
    "PyPI (Python Package Index — Python kataloglar paketi)\n",
    "Agarda sizda python 2  talqini uchun  2.7.9 dan yuqori hamda python 3 talqini uchun python 3.4.0 dan yuqori bo’lsa unda sizda python o’rnatganingizda pip bilan birga o’rnatadi. \n",
    "Agarda siz yuqoridagidan past talqindagi holat bo’lsa ya’ni python < 2.7.9 va python < 3.4.0,  u holda siz pip ni o’zingiz o’rnatishingiz mumkin.   \n",
    "Birinchi navbatda biz kampyuterimizda python borligiga ishonch hosil qilishimiz kerak. Buning uchun biz cmd komandalari qatoriga kirib “Windows” - (Win+R), “Linux” - (Ctrl+Alt+T)  \n",
    "python --version komandasini teramiz.agarda sizda python talqini 3 bo’lsa va systemangiz Linux bo’lsa unda siz python3 --version terasiz.\n",
    "\n",
    "\n",
    "\n",
    "\n",
    "  \n",
    "\n",
    "\n",
    "\n",
    "\n",
    "\n",
    "Sizda shu ko’rinishda chiqqan bo’lsa demak sizda python o’rnatilgan. Aks holda Python is not defined yozuvi chiqsa demak sizda python o’rnatilmagan.\n",
    "\n",
    "\n",
    "\n",
    "\n",
    " \n",
    "\n",
    "\n",
    "\n",
    "\n",
    " \n",
    "\n",
    "\n",
    "\n",
    "\n",
    "\n",
    "\n",
    "\n",
    "\n",
    "\n",
    "\n",
    "\n",
    "\n",
    "\n",
    "\n",
    "\n",
    "\n"
   ]
  },
  {
   "cell_type": "code",
   "execution_count": 1,
   "metadata": {},
   "outputs": [
    {
     "name": "stdout",
     "output_type": "stream",
     "text": [
      "Hello world!\n"
     ]
    }
   ],
   "source": [
    "print(\"Hello world!\")"
   ]
  },
  {
   "cell_type": "code",
   "execution_count": null,
   "metadata": {},
   "outputs": [],
   "source": []
  }
 ],
 "metadata": {
  "kernelspec": {
   "display_name": "Python 3.10 (tensorflow)",
   "language": "python",
   "name": "tensorflow"
  },
  "language_info": {
   "codemirror_mode": {
    "name": "ipython",
    "version": 3
   },
   "file_extension": ".py",
   "mimetype": "text/x-python",
   "name": "python",
   "nbconvert_exporter": "python",
   "pygments_lexer": "ipython3",
   "version": "3.10.9"
  },
  "orig_nbformat": 4,
  "vscode": {
   "interpreter": {
    "hash": "aee8b7b246df8f9039afb4144a1f6fd8d2ca17a180786b69acc140d282b71a49"
   }
  }
 },
 "nbformat": 4,
 "nbformat_minor": 2
}
