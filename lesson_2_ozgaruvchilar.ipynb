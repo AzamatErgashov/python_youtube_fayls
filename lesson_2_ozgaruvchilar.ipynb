{
 "cells": [
  {
   "attachments": {},
   "cell_type": "markdown",
   "metadata": {},
   "source": [
    "<h1>O'zgaruvchilar"
   ]
  },
  {
   "attachments": {},
   "cell_type": "markdown",
   "metadata": {},
   "source": [
    "## O'zgaruvchi turlari"
   ]
  },
  {
   "attachments": {},
   "cell_type": "markdown",
   "metadata": {},
   "source": [
    "## int  (butun sonlar)\n",
    "## float (kasr sonlar, haqiqiy sonlar )\n",
    "## str (qatorlar)\n",
    "## list (qatorlar,haqiqiy sonlar va butun sonlarni ketma ket joylashishidan hosil bo’lgan list)\n",
    "## dict (kalit : qiymat birikmali murakkab o’zgaruvchi)\n",
    "## tup (o’zgarmas obektlardan tashkil topgan o’zgaruvchilar)\n",
    "## set (takrorlanmaydigan obektlardan tashkil topgan o’zgaruvchilar)\n",
    "## bool (mantiqiy o’zgaruvchi)\n"
   ]
  },
  {
   "attachments": {},
   "cell_type": "markdown",
   "metadata": {},
   "source": [
    "<h1>O'zgaruchi nomlariga quyidagilar kirmaydi"
   ]
  },
  {
   "attachments": {},
   "cell_type": "markdown",
   "metadata": {},
   "source": [
    "\n",
    "## False;\n",
    "## True;\n",
    "## None;\n",
    "## and;\n",
    "## with;\n",
    "## as;\n",
    "## assert;\n",
    "## break;\n",
    "## class;\n",
    "## continue;\n",
    "## def;\n",
    "## del;\n",
    "## elif;\n",
    "## else;\n",
    "## except;\n",
    "## finally;\n",
    "## try;\n",
    "## for;\n",
    "## from;\n",
    "## global;\n",
    "## if;\n",
    "## import;\n",
    "## in;\n",
    "## is;\n",
    "## lambda;\n",
    "## nonlocal;\n",
    "## not;\n",
    "## or;\n",
    "## pass;\n",
    "## raise;\n",
    "## return;\n",
    "## while;\n",
    "## yield."
   ]
  },
  {
   "cell_type": "code",
   "execution_count": 3,
   "metadata": {},
   "outputs": [
    {
     "name": "stdout",
     "output_type": "stream",
     "text": [
      "Int\n"
     ]
    }
   ],
   "source": [
    "print(\"Int\")"
   ]
  },
  {
   "attachments": {},
   "cell_type": "markdown",
   "metadata": {},
   "source": [
    "## Barcha manfiy va musbat butun sonlar to’plami.\n",
    "## Masalan :  1 , -1 , 2 , 5 , 6, -20 \n",
    "## x= 2 \n",
    "## x = -20 \n",
    "## qo’llaniladigan amallari:\n",
    "## +, -, *, /, **, %\n",
    "## ** - daraja amalidir. 2**2 = 4 yani 2^2=4\n",
    "## % - bo’linmadan qolgan qoldiq. 7/3=2, 7/3=2 \n",
    "## int(‘10’,8) = 8\n",
    "## int(‘10’,16) = 16\n",
    "## int(‘10’,10) = 10\n"
   ]
  },
  {
   "attachments": {},
   "cell_type": "markdown",
   "metadata": {},
   "source": [
    "## uyga vazifa \n",
    "## 1 print da int sonali chiqorish\n",
    "## 2 \n",
    "## XX = 34\n",
    "## print(person_age) --> XX ni o'rniga shunday narsa qo'ying print da 34 chiqsin"
   ]
  },
  {
   "attachments": {},
   "cell_type": "markdown",
   "metadata": {},
   "source": [
    "# qilish majburiy (: (:"
   ]
  },
  {
   "cell_type": "markdown",
   "metadata": {},
   "source": []
  }
 ],
 "metadata": {
  "kernelspec": {
   "display_name": "Python 3",
   "language": "python",
   "name": "python3"
  },
  "language_info": {
   "codemirror_mode": {
    "name": "ipython",
    "version": 3
   },
   "file_extension": ".py",
   "mimetype": "text/x-python",
   "name": "python",
   "nbconvert_exporter": "python",
   "pygments_lexer": "ipython3",
   "version": "3.10.10"
  },
  "orig_nbformat": 4,
  "vscode": {
   "interpreter": {
    "hash": "aee8b7b246df8f9039afb4144a1f6fd8d2ca17a180786b69acc140d282b71a49"
   }
  }
 },
 "nbformat": 4,
 "nbformat_minor": 2
}
