{
 "cells": [
  {
   "attachments": {},
   "cell_type": "markdown",
   "metadata": {},
   "source": [
    "## Float python ma'lumot turi"
   ]
  },
  {
   "attachments": {},
   "cell_type": "markdown",
   "metadata": {},
   "source": [
    "# bu kasr hamda haqiqiy sonlardan tashkil topgan sonlar to’plami.\n",
    "# Masalan :  0.1, -0.25, 0.888875478, 457894.1145\n",
    "# float(16*2) = 32.0\n"
   ]
  },
  {
   "cell_type": "code",
   "execution_count": 2,
   "metadata": {},
   "outputs": [
    {
     "data": {
      "text/html": [
       "<pre style=\"white-space:pre;overflow-x:auto;line-height:normal;font-family:Menlo,'DejaVu Sans Mono',consolas,'Courier New',monospace\"><span style=\"color: #808000; text-decoration-color: #808000\"> __  __       _                       _   _ _    </span>\n",
       "<span style=\"color: #808000; text-decoration-color: #808000\">|  \\/  | __ _| |_ ___ _ __ ___   __ _| |</span><span style=\"color: #808000; text-decoration-color: #808000; font-weight: bold\">_(</span><span style=\"color: #808000; text-decoration-color: #808000\">_</span><span style=\"color: #808000; text-decoration-color: #808000; font-weight: bold\">)</span><span style=\"color: #808000; text-decoration-color: #808000\"> | __</span>\n",
       "<span style=\"color: #808000; text-decoration-color: #808000\">| |\\/| |/ _` | __/ _ \\ '_ ` _ \\ / _` | __| | |/ /</span>\n",
       "<span style=\"color: #808000; text-decoration-color: #808000\">| |  | | </span><span style=\"color: #808000; text-decoration-color: #808000; font-weight: bold\">(</span><span style=\"color: #808000; text-decoration-color: #808000\">_| | ||  __/ | | | | | </span><span style=\"color: #808000; text-decoration-color: #808000; font-weight: bold\">(</span><span style=\"color: #808000; text-decoration-color: #808000\">_| | |_| |   &lt; </span>\n",
       "<span style=\"color: #808000; text-decoration-color: #808000\">|_|  |_|\\__,_|\\__\\___|_| |_| |_|\\__,_|\\__|_|_|\\_\\</span>\n",
       "<span style=\"color: #808000; text-decoration-color: #808000\">                                                 </span>\n",
       "<span style=\"color: #808000; text-decoration-color: #808000\">    _                    _ _            </span>\n",
       "<span style=\"color: #808000; text-decoration-color: #808000\">   / \\   _ __ ___   __ _| | | __ _ _ __ </span>\n",
       "<span style=\"color: #808000; text-decoration-color: #808000\">  / _ \\ | </span><span style=\"color: #808000; text-decoration-color: #808000\">'_ ` _ \\ / _` | | |/ _` | '</span><span style=\"color: #808000; text-decoration-color: #808000\">__|</span>\n",
       "<span style=\"color: #808000; text-decoration-color: #808000\"> / ___ \\| | | | | | </span><span style=\"color: #808000; text-decoration-color: #808000; font-weight: bold\">(</span><span style=\"color: #808000; text-decoration-color: #808000\">_| | | | </span><span style=\"color: #808000; text-decoration-color: #808000; font-weight: bold\">(</span><span style=\"color: #808000; text-decoration-color: #808000\">_| | |   </span>\n",
       "<span style=\"color: #808000; text-decoration-color: #808000\">/_/   \\_\\_| |_| |_|\\__,_|_|_|\\__,_|_|   </span>\n",
       "<span style=\"color: #808000; text-decoration-color: #808000\">                                        </span>\n",
       "\n",
       "</pre>\n"
      ],
      "text/plain": [
       "\u001b[33m __  __       _                       _   _ _    \u001b[0m\n",
       "\u001b[33m|  \\\u001b[0m\u001b[33m/\u001b[0m\u001b[33m  | __ _| |_ ___ _ __ ___   __ _| |\u001b[0m\u001b[1;33m_\u001b[0m\u001b[1;33m(\u001b[0m\u001b[33m_\u001b[0m\u001b[1;33m)\u001b[0m\u001b[33m | __\u001b[0m\n",
       "\u001b[33m| |\\\u001b[0m\u001b[33m/\u001b[0m\u001b[33m| |\u001b[0m\u001b[33m/\u001b[0m\u001b[33m _` | __/ _ \\ '_ ` _ \\ \u001b[0m\u001b[33m/\u001b[0m\u001b[33m _` | __| | |\u001b[0m\u001b[33m/\u001b[0m\u001b[33m \u001b[0m\u001b[33m/\u001b[0m\n",
       "\u001b[33m| |  | | \u001b[0m\u001b[1;33m(\u001b[0m\u001b[33m_| | ||  __/ | | | | | \u001b[0m\u001b[1;33m(\u001b[0m\u001b[33m_| | |_| |   < \u001b[0m\n",
       "\u001b[33m|_|  |_|\\__,_|\\__\\___|_| |_| |_|\\__,_|\\__|_|_|\\_\\\u001b[0m\n",
       "\u001b[33m                                                 \u001b[0m\n",
       "\u001b[33m    _                    _ _            \u001b[0m\n",
       "\u001b[33m   \u001b[0m\u001b[33m/\u001b[0m\u001b[33m \\   _ __ ___   __ _| | | __ _ _ __ \u001b[0m\n",
       "\u001b[33m  \u001b[0m\u001b[33m/\u001b[0m\u001b[33m _ \\ | \u001b[0m\u001b[33m'_ ` _ \\ / _` | | |/ _` | '\u001b[0m\u001b[33m__|\u001b[0m\n",
       "\u001b[33m \u001b[0m\u001b[33m/\u001b[0m\u001b[33m ___ \\| | | | | | \u001b[0m\u001b[1;33m(\u001b[0m\u001b[33m_| | | | \u001b[0m\u001b[1;33m(\u001b[0m\u001b[33m_| | |   \u001b[0m\n",
       "\u001b[33m/_/\u001b[0m\u001b[33m   \\_\\_| |_| |_|\\__,_|_|_|\\__,_|_|   \u001b[0m\n",
       "\u001b[33m                                        \u001b[0m\n",
       "\n"
      ]
     },
     "metadata": {},
     "output_type": "display_data"
    }
   ],
   "source": [
    "import pyfiglet\n",
    "from rich import print\n",
    "\n",
    "title = pyfiglet.figlet_format('Matematik Amallar')\n",
    "print(f'[yellow]{title}[/yellow]')"
   ]
  },
  {
   "attachments": {},
   "cell_type": "markdown",
   "metadata": {},
   "source": [
    "##  + qo’shish\n",
    "## - ayirish\n",
    "## *   ko’paytirish\n",
    "## /  bo’lish\n",
    "## % qoldiqli bo’lish\n",
    "## **   daraja\n",
    "## 1_000_000\n",
    "## HEX(x)   x ni  o’n oltilik sanoq sistemasiga o’tish\n",
    "## OCT(x)   x ni  o’nlik sanoq sistemasiga o’tish\n",
    "## BIN(x)   x ni ikkilik sanoq sistemasiga o’tishi"
   ]
  },
  {
   "cell_type": "code",
   "execution_count": 20,
   "metadata": {},
   "outputs": [
    {
     "data": {
      "text/html": [
       "<pre style=\"white-space:pre;overflow-x:auto;line-height:normal;font-family:Menlo,'DejaVu Sans Mono',consolas,'Courier New',monospace\"><span style=\"color: #008080; text-decoration-color: #008080; font-weight: bold\">14</span>\n",
       "</pre>\n"
      ],
      "text/plain": [
       "\u001b[1;36m14\u001b[0m\n"
      ]
     },
     "metadata": {},
     "output_type": "display_data"
    },
    {
     "data": {
      "text/html": [
       "<pre style=\"white-space:pre;overflow-x:auto;line-height:normal;font-family:Menlo,'DejaVu Sans Mono',consolas,'Courier New',monospace\"><span style=\"color: #008080; text-decoration-color: #008080; font-weight: bold\">10</span>\n",
       "</pre>\n"
      ],
      "text/plain": [
       "\u001b[1;36m10\u001b[0m\n"
      ]
     },
     "metadata": {},
     "output_type": "display_data"
    },
    {
     "data": {
      "text/html": [
       "<pre style=\"white-space:pre;overflow-x:auto;line-height:normal;font-family:Menlo,'DejaVu Sans Mono',consolas,'Courier New',monospace\"><span style=\"color: #008080; text-decoration-color: #008080; font-weight: bold\">24</span>\n",
       "</pre>\n"
      ],
      "text/plain": [
       "\u001b[1;36m24\u001b[0m\n"
      ]
     },
     "metadata": {},
     "output_type": "display_data"
    },
    {
     "data": {
      "text/html": [
       "<pre style=\"white-space:pre;overflow-x:auto;line-height:normal;font-family:Menlo,'DejaVu Sans Mono',consolas,'Courier New',monospace\"><span style=\"color: #008080; text-decoration-color: #008080; font-weight: bold\">6.0</span>\n",
       "</pre>\n"
      ],
      "text/plain": [
       "\u001b[1;36m6.0\u001b[0m\n"
      ]
     },
     "metadata": {},
     "output_type": "display_data"
    },
    {
     "data": {
      "text/html": [
       "<pre style=\"white-space:pre;overflow-x:auto;line-height:normal;font-family:Menlo,'DejaVu Sans Mono',consolas,'Courier New',monospace\"><span style=\"color: #008080; text-decoration-color: #008080; font-weight: bold\">14</span>\n",
       "</pre>\n"
      ],
      "text/plain": [
       "\u001b[1;36m14\u001b[0m\n"
      ]
     },
     "metadata": {},
     "output_type": "display_data"
    }
   ],
   "source": [
    "a = 12\n",
    "b = 2\n",
    "\n",
    "print(a + b)\n",
    "print(a - b)\n",
    "print(a * b)\n",
    "print(a / b)\n",
    "print(a + b)\n"
   ]
  },
  {
   "cell_type": "code",
   "execution_count": 28,
   "metadata": {},
   "outputs": [
    {
     "data": {
      "text/html": [
       "<pre style=\"white-space:pre;overflow-x:auto;line-height:normal;font-family:Menlo,'DejaVu Sans Mono',consolas,'Courier New',monospace\">a + b = <span style=\"color: #008080; text-decoration-color: #008080; font-weight: bold\">24.5</span>\n",
       "</pre>\n"
      ],
      "text/plain": [
       "a + b = \u001b[1;36m24.5\u001b[0m\n"
      ]
     },
     "metadata": {},
     "output_type": "display_data"
    },
    {
     "data": {
      "text/html": [
       "<pre style=\"white-space:pre;overflow-x:auto;line-height:normal;font-family:Menlo,'DejaVu Sans Mono',consolas,'Courier New',monospace\"><span style=\"color: #008080; text-decoration-color: #008080; font-weight: bold\">5</span>\n",
       "</pre>\n"
      ],
      "text/plain": [
       "\u001b[1;36m5\u001b[0m\n"
      ]
     },
     "metadata": {},
     "output_type": "display_data"
    },
    {
     "data": {
      "text/html": [
       "<pre style=\"white-space:pre;overflow-x:auto;line-height:normal;font-family:Menlo,'DejaVu Sans Mono',consolas,'Courier New',monospace\"><span style=\"color: #008080; text-decoration-color: #008080; font-weight: bold\">65</span>\n",
       "</pre>\n"
      ],
      "text/plain": [
       "\u001b[1;36m65\u001b[0m\n"
      ]
     },
     "metadata": {},
     "output_type": "display_data"
    }
   ],
   "source": [
    "a = 12\n",
    "b = 12.5\n",
    "c = \"Hello python!\"\n",
    "\n",
    "# BEGIN  o'zgaruvchilar bilan ishlash ---\n",
    "\n",
    "print(f\"a + b = {a+b}\")\n",
    "# int + int = int\n",
    "# int * int = int\n",
    "# int / int = float\n",
    "# int(x, y)   x = integerga o'tkazish kerak bo'ladigan qiymat // y = sanoq sistema\n",
    "# 0100110111001010\n",
    "# 0-7  8 lik sanoq sistemasi\n",
    "print(int('101',2))\n",
    "# 101 => 1*(2**0)+0*(2**1)+1*(2**2)=1*1+0+1*4 = 5\n",
    "print(int('101',8))\n",
    "# 101 = > 1*(8**0)+1*(8**2) = 1*1+64*1 = 65\n"
   ]
  },
  {
   "cell_type": "code",
   "execution_count": 8,
   "metadata": {},
   "outputs": [
    {
     "name": "stdout",
     "output_type": "stream",
     "text": [
      "343\n"
     ]
    }
   ],
   "source": [
    "print(7**3)\n",
    "# print(15//2)\n",
    "# print(3**2)"
   ]
  },
  {
   "cell_type": "code",
   "execution_count": 5,
   "metadata": {},
   "outputs": [
    {
     "data": {
      "text/html": [
       "<pre style=\"white-space:pre;overflow-x:auto;line-height:normal;font-family:Menlo,'DejaVu Sans Mono',consolas,'Courier New',monospace\"><span style=\"color: #008080; text-decoration-color: #008080; font-weight: bold\">1024</span>\n",
       "</pre>\n"
      ],
      "text/plain": [
       "\u001b[1;36m1024\u001b[0m\n"
      ]
     },
     "metadata": {},
     "output_type": "display_data"
    }
   ],
   "source": [
    "print(2**10)"
   ]
  },
  {
   "attachments": {},
   "cell_type": "markdown",
   "metadata": {},
   "source": [
    "# input"
   ]
  },
  {
   "attachments": {},
   "cell_type": "markdown",
   "metadata": {},
   "source": [
    "## input bizga terminaldan narsa olib beradi"
   ]
  },
  {
   "cell_type": "code",
   "execution_count": 1,
   "metadata": {},
   "outputs": [
    {
     "name": "stdout",
     "output_type": "stream",
     "text": [
      "salom\n"
     ]
    }
   ],
   "source": [
    "a = input(\"so'zni kiriting ---> \")\n",
    "print(a)"
   ]
  },
  {
   "cell_type": "code",
   "execution_count": null,
   "metadata": {},
   "outputs": [],
   "source": []
  }
 ],
 "metadata": {
  "kernelspec": {
   "display_name": "Python 3",
   "language": "python",
   "name": "python3"
  },
  "language_info": {
   "codemirror_mode": {
    "name": "ipython",
    "version": 3
   },
   "file_extension": ".py",
   "mimetype": "text/x-python",
   "name": "python",
   "nbconvert_exporter": "python",
   "pygments_lexer": "ipython3",
   "version": "3.10.10"
  },
  "orig_nbformat": 4,
  "vscode": {
   "interpreter": {
    "hash": "aee8b7b246df8f9039afb4144a1f6fd8d2ca17a180786b69acc140d282b71a49"
   }
  }
 },
 "nbformat": 4,
 "nbformat_minor": 2
}
