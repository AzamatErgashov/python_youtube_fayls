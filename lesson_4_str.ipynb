{
 "cells": [
  {
   "attachments": {},
   "cell_type": "markdown",
   "metadata": {},
   "source": [
    "# str"
   ]
  },
  {
   "attachments": {},
   "cell_type": "markdown",
   "metadata": {},
   "source": [
    "##   Barcha simvollar va harflar,sonlar qatorlarga kiradi. Faqat bittalik yoki iktalik qo’shtirnoq ichida yoziladi. Yana uchtalik qo’shtirnoq bilan ham yoziladi.\n",
    "##    Masalan : x = “Hello”   y = ‘world’    print(x+’ ’+y)\n",
    "##    Hello world\n",
    "##    yoki “””Hello wolrd  “””  ,     ‘’’   Hello world      ‘’’"
   ]
  },
  {
   "attachments": {},
   "cell_type": "markdown",
   "metadata": {},
   "source": [
    "+  x= “Hello ” y = “world”   x+y = “Hello wolrd”\n",
    "*  2*x  = “Hello Hello”\n",
    "    \\        qatorlarda g’,o’, yoki  “python” ko’rinishidagi qatorlarni  \\ orqali yozish mumkin\n",
    "x = ‘Azamat Ergashev Erkin o\\’g\\’li’ ko’rinishida \n",
    "y = “\\”python\\” dasturlash tili eng mashhur dasturlash tillaridan biridir”\n",
    "ko’rinishida yozish mumkin.\n",
    "   \\n        x = \"Azamat Ergashev Erkinovich  \\n   Yangi dasturchi”\n",
    "   \\r        x = “string \\n                     \\ryangi qator probelsiz ” \n",
    "  \\t        x = “12\\t3456789”  kerakli joyga tab qushadi.\n"
   ]
  },
  {
   "attachments": {},
   "cell_type": "markdown",
   "metadata": {},
   "source": [
    "len    -       qatorlarni simvollar,harflar va raqamlar sonini bildiradi\n",
    "[index]    -  qatorlarni elementlariga murojat qilish uchun index lardan foydalanish mumkin.\n",
    "index qabul qilishi mumkin bo’lgan sonlar 0 dan boshlanib, element len() gacha davom etadi hamda -1 dan boshlanib teskari tartibda qiymatlar qabul qiladi.\n",
    "x = \"Azamat Ergashev Erkinovich @ gmail.com” \n",
    "x[0] = “Q” , x[1] = “u”\n",
    "x[-1] = “m”   \n",
    "\tindex bir vaqtda bir necvha qiymatlar qabul qiladi.  [index_dan,index_gacha,qadam soni]\n",
    "\tx[0:7] = “Qurbonov”   x[0:7:2] = “Qroo” \n"
   ]
  },
  {
   "attachments": {},
   "cell_type": "markdown",
   "metadata": {},
   "source": [
    "# upper()  -   string qatoridagi hamma harflarni katta harflarga almashtiradi.\n",
    "# lower()   -   string qatoridagi hamma harflarni kichkina harflarga aylantiradi.#   \n",
    "# split(x)   -  string qatorlardan list lar yashash uchun qo’llaniladi  va x ni qiymatlari sifatida simvollar , harflar, sonlar  berish mumkin.\n",
    "# str()  - beriglan qiymatni string qatoriga almashtiradi.\n",
    "# format()   - string qatorlarda o’zgaruvchilarni qo’shish\n",
    "# “My name is {0}. I’m {1} year old.”.format(“Akmal”,23)# == >  “My name is Akmal. I’m 23 year old.”\n",
    "# week_days = \"Thera 7 days in week : {su} {mon} {tu} {we} {th} {fr} {sa} \".format(su = 'Sunday', mon = 'Monday', tu = 'Tuesday', we = 'Wednesday', th = 'Thursday', fr = 'Friday', sa = 'Saturday')\n",
    "\n",
    "# print(week_days)\n",
    "\n",
    "# Thera 7 days in week : Sunday Monday Tuesday Wednesday Thursday Friday Saturday\n"
   ]
  },
  {
   "attachments": {},
   "cell_type": "markdown",
   "metadata": {},
   "source": [
    "#   “seperator”.join(mylist)\n",
    "#   “seperator”.join(mydict)\n"
   ]
  },
  {
   "attachments": {},
   "cell_type": "markdown",
   "metadata": {},
   "source": [
    "## homework"
   ]
  },
  {
   "attachments": {},
   "cell_type": "markdown",
   "metadata": {},
   "source": [
    "# Bitta qator berilgan \n",
    "# 1 so'zlar sonini \n",
    "# 2 xotiradan egallagan hajmini topamiz. 1 - ta belgi  bir bayt ga teng! \n",
    "#   x =  \"\"\"— Eh bien, mon prince. Gênes et Lucques ne sont plus que des apanages, des поместья, de la famille Buonaparte. Non, je vous préviens que si vous ne me dites pas que nous avons la guerre, si vous vous permettez encore de pallier toutes les infamies, toutes les atrocités de cet Antichrist (ma parole, j'y crois) — je ne vous connais plus, vous n'êtes plus mon ami, vous n'êtes plus мой верный раб, comme vous dites 1. Ну, здравствуйте, здравствуйте. Je vois que je vous fais peur 2, садитесь и рассказывайте.\n",
    "#Так говорила в июле 1805 года известная Анна Павловна Шерер, фрейлина и приближенная императрицы Марии Феодоровны, встречая важного и чиновного князя Василия, первого приехавшего на ее вечер. Анна Павловна кашляла несколько дней, у нее был грипп, как она говорила (грипп был тогда новое слово, употреблявшееся только редкими). В записочках, разосланных утром с красным лакеем, было написано без различия во всех:\"\"\"\n",
    "# 2 ta qator berilgan shu qatorlarni tengligini(mazmunan) topamiz %!  a= 'Salom' b = 'salyut'\n"
   ]
  },
  {
   "cell_type": "markdown",
   "metadata": {},
   "source": []
  }
 ],
 "metadata": {
  "kernelspec": {
   "display_name": "Python 3",
   "language": "python",
   "name": "python3"
  },
  "language_info": {
   "name": "python",
   "version": "3.10.10"
  },
  "orig_nbformat": 4,
  "vscode": {
   "interpreter": {
    "hash": "aee8b7b246df8f9039afb4144a1f6fd8d2ca17a180786b69acc140d282b71a49"
   }
  }
 },
 "nbformat": 4,
 "nbformat_minor": 2
}
