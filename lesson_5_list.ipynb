{
 "cells": [
  {
   "attachments": {},
   "cell_type": "markdown",
   "metadata": {},
   "source": [
    "# list"
   ]
  },
  {
   "attachments": {},
   "cell_type": "markdown",
   "metadata": {},
   "source": [
    "## int , str, float o’zgaruvchilardan tashkil topgan o’zgaruvchilar guruhi.\n",
    "## mylist = [“men”,\"Azamat\",\"Ergashev”, 2007,17,”Aprelda”,13.85]\n",
    "\n",
    "## len   -   listdagi elementlar sonini nechtaligini bildiradi.\n",
    "## listga murojat qilish uchun index bilan murojat qilamiz.\n",
    "## mylist[1] = \"Ergashev\"\n",
    "## append(item)  - list elementlariga oxirgi elementni qo’shish\n",
    "## insert(index,item)  - list elementlari index bo’yicha qo’shish.\n",
    "## pop(index)  -   list elementini oxirgisini o’chirish agar index qiymati berilmagan bo’lsa. Bundan tashqari shu elementni qaytaradi.\n",
    "## remove(value)      -     element qiymati bo’yicha o’chirish. value = > element qiymati."
   ]
  },
  {
   "attachments": {},
   "cell_type": "markdown",
   "metadata": {},
   "source": [
    "# inser ----> fruits = ['apple', 'banana', 'cherry']\n",
    "\n",
    "# fruits.insert(1, \"orange\")\n",
    "\n",
    "# print(fruits)"
   ]
  },
  {
   "attachments": {},
   "cell_type": "markdown",
   "metadata": {},
   "source": [
    "#   ------------------------------------"
   ]
  },
  {
   "attachments": {},
   "cell_type": "markdown",
   "metadata": {},
   "source": [
    "# remove ---> fruits = ['apple', 'banana', 'cherry']\n",
    "\n",
    "# fruits.remove(\"banana\")\n",
    "\n",
    "# print(fruits)"
   ]
  },
  {
   "attachments": {},
   "cell_type": "markdown",
   "metadata": {},
   "source": [
    "#     --------------------------------"
   ]
  },
  {
   "attachments": {},
   "cell_type": "markdown",
   "metadata": {},
   "source": [
    "## sort()   -list elementlarini tartiblash. default o’sish tartibida bo’ladi.\n",
    "## reverse()  -  list elementlarini tartiblash. default kamayish tartibida.\n",
    "## clear()    -  list elementlarini tozalaydi.\n",
    "## copy()    -  list elementlariga boshqa list elementlarini nusxalash.\n",
    "## count(value)   -  list elementlari ichidagi takrorlangan elementlar sonini qaytaradi.\n",
    "## extend(newlist)  - list elementlariga yangi list,  dict, truple  elementlarini oxiridan boshlab qo’shish.\n",
    "## index(value)                 - list elementining turgan indexini qaytaradi."
   ]
  },
  {
   "attachments": {},
   "cell_type": "markdown",
   "metadata": {},
   "source": [
    "# reverse ---> fruits = ['apple', 'banana', 'cherry']\n",
    "\n",
    " # fruits.reverse()\n",
    "\n",
    "#  print(fruits)"
   ]
  },
  {
   "cell_type": "markdown",
   "metadata": {},
   "source": []
  },
  {
   "cell_type": "code",
   "execution_count": null,
   "metadata": {},
   "outputs": [],
   "source": []
  }
 ],
 "metadata": {
  "kernelspec": {
   "display_name": "Python 3",
   "language": "python",
   "name": "python3"
  },
  "language_info": {
   "name": "python",
   "version": "3.10.10"
  },
  "orig_nbformat": 4,
  "vscode": {
   "interpreter": {
    "hash": "aee8b7b246df8f9039afb4144a1f6fd8d2ca17a180786b69acc140d282b71a49"
   }
  }
 },
 "nbformat": 4,
 "nbformat_minor": 2
}
