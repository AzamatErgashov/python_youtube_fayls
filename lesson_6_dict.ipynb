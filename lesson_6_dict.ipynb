{
 "cells": [
  {
   "attachments": {},
   "cell_type": "markdown",
   "metadata": {},
   "source": [
    "# dict"
   ]
  },
  {
   "attachments": {},
   "cell_type": "markdown",
   "metadata": {},
   "source": [
    "## dict   -   strukturalangan slovar. kalit so’z va qiymatdan iborat obekt. Kalit so’zlar takrorlanmagan bo’lishi kerak.\n",
    "## car_prices  = { “opel” : 2000, “toyota” : 3000, “bmw” : 4000 }\n",
    "## bu yerda “opel” - kalit so’z ,  2000 esa qiymat. qiymatlar murakkab strukturaga ega bo’lishi mumkin.\n",
    "## Dict ga yangi ma’lumot qo’shish uchun esa kalit so’zni berib car_prices[“daewoo”]  va shu kalit so’zga qiymat beramiz.\n",
    "## car_prices[“daewoo”] = 500\n",
    "\n",
    "## dict ni yangilash uchun kalit so’zga murojat qilib,  yangi qiymatni beramiz. Shunda eski qiymati o’rniga yangi qiymat qabul qiladi.\n",
    "## car_prices[“daewoo”] = 1500\n",
    "## Ma’lumotlarni o’chirish uchun del  operatoridan foydalanish mumkin.\n",
    "## del car_prices[“deawoo”] "
   ]
  },
  {
   "attachments": {},
   "cell_type": "markdown",
   "metadata": {},
   "source": [
    "# ------------------------"
   ]
  },
  {
   "attachments": {},
   "cell_type": "markdown",
   "metadata": {},
   "source": [
    "## clear  -   slovarni ichidagi ma’lumotlarni tozalab beradi.\n",
    "## copy    -  slovardan nusxa olish.\n",
    "## get   -  slovatdan kalit so’z bo’yicha ma’lumot olish\n",
    "## items   -   kalit so’z va qiymatlarni truple ko’rinishida beradi.\n",
    "## keys   -   kalit so’zlar ro’yxatini list ko’rinishida qaytaradi.   \n",
    "## pop  -  kalit so’z yordamida shu kalit so’z va tegishli qiymatni qaytaradi.\n",
    "## popitem  -  oxirgi kalit so’z va tegishli qiymatni o’chiradi.\n",
    "## update   -   kerakli kalit so’z va tegishli qaymatni o’chiradi agar mavjud bo’lmasa, yangi yaratadi.\n",
    "## values      -     faqat qiymatlarni list ko’rinishida qaytaradi.     \n"
   ]
  },
  {
   "attachments": {},
   "cell_type": "markdown",
   "metadata": {},
   "source": [
    "# get ----> car = {\n",
    " ##  \"brand\": \"Ford\",\n",
    "## \"model\": \"Mustang\",\n",
    "## \"year\": 1964\n",
    "## }\n",
    "\n",
    "## x = car.get(\"model\")\n",
    "\n",
    "## print(x)"
   ]
  },
  {
   "cell_type": "code",
   "execution_count": null,
   "metadata": {},
   "outputs": [],
   "source": []
  }
 ],
 "metadata": {
  "kernelspec": {
   "display_name": "Python 3",
   "language": "python",
   "name": "python3"
  },
  "language_info": {
   "name": "python",
   "version": "3.10.10"
  },
  "orig_nbformat": 4,
  "vscode": {
   "interpreter": {
    "hash": "aee8b7b246df8f9039afb4144a1f6fd8d2ca17a180786b69acc140d282b71a49"
   }
  }
 },
 "nbformat": 4,
 "nbformat_minor": 2
}
