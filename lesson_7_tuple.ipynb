{
 "cells": [
  {
   "attachments": {},
   "cell_type": "markdown",
   "metadata": {},
   "source": [
    "# tuple"
   ]
  },
  {
   "attachments": {},
   "cell_type": "markdown",
   "metadata": {},
   "source": [
    "## tuple  - qiymatini o’zgartirish imkoni bo’lmagan va oddiy qavs bilan ochiladigan o’zgaruvchidir.\n",
    "## tuple_1 = (1,2,3,)\n",
    "## tuple_2 = 1,2,3\n",
    "## tuple_3 = (“one”,”two”,”free”)\n",
    "## tuple_4 = (1,2,3, “four”,”five”)\n",
    "## murojat qilish uchun index bo’yicha bo’ladi.\n",
    "## print(tuple_1[0])\n",
    "## tuple_5  = (tuple_4[1],”one”,tuple_3[2])\n",
    "## ko’p elementlarga bir xil qiymat berish mumkin\n",
    "## x=y=z=k=l=5\n",
    "## x,y,z = 11,12,13\n"
   ]
  },
  {
   "attachments": {},
   "cell_type": "markdown",
   "metadata": {},
   "source": [
    "# tuple da 2ta methode bor \n"
   ]
  },
  {
   "attachments": {},
   "cell_type": "markdown",
   "metadata": {},
   "source": [
    "# count(x)   -     tuple  x qiymatli elementlarini soni takrorlanishini bildiradi. \n",
    "\n",
    "# index(x)   -     tuple x qiymatli elementini indexini qaytaradi. "
   ]
  },
  {
   "cell_type": "code",
   "execution_count": 1,
   "metadata": {},
   "outputs": [
    {
     "name": "stdout",
     "output_type": "stream",
     "text": [
      "2\n"
     ]
    }
   ],
   "source": [
    "thistuple = (1, 3, 7, 8, 7, 5, 4, 6, 8, 5)\n",
    "\n",
    "x = thistuple.count(5)\n",
    "\n",
    "print(x)"
   ]
  }
 ],
 "metadata": {
  "kernelspec": {
   "display_name": "Python 3",
   "language": "python",
   "name": "python3"
  },
  "language_info": {
   "codemirror_mode": {
    "name": "ipython",
    "version": 3
   },
   "file_extension": ".py",
   "mimetype": "text/x-python",
   "name": "python",
   "nbconvert_exporter": "python",
   "pygments_lexer": "ipython3",
   "version": "3.10.10"
  },
  "orig_nbformat": 4,
  "vscode": {
   "interpreter": {
    "hash": "aee8b7b246df8f9039afb4144a1f6fd8d2ca17a180786b69acc140d282b71a49"
   }
  }
 },
 "nbformat": 4,
 "nbformat_minor": 2
}
