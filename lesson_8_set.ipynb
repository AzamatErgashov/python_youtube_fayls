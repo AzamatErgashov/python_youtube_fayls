{
 "cells": [
  {
   "attachments": {},
   "cell_type": "markdown",
   "metadata": {},
   "source": [
    "# set\n"
   ]
  },
  {
   "attachments": {},
   "cell_type": "markdown",
   "metadata": {},
   "source": [
    "## Takrorlanmaydigan str , int , float , tuple  va bool  turlaridan tashkil topgan yangi tur SET dir.\n",
    "## thisset = {\"apple\", \"banana\", \"cherry\", \"apple\"}\n",
    "## set2 = {1, 5, 7, 9, 3}\n",
    "## set3 = {True, False, False}\n",
    "## set1 = {\"abc\", 34, True, 40, \"male\"}"
   ]
  },
  {
   "attachments": {},
   "cell_type": "markdown",
   "metadata": {},
   "source": [
    "## add(x) -  x qiymatli ma’lumot qo’shish\n",
    "## update(x)   -  bir necha x qiymatli ma’lumotni yangilash yoki tahrirlash\n",
    "## remove(x) -  o’chirilishi kerak bo’lgan x qiymat\n",
    "## discard(x) -  o’chirilishi kerak bo’lgan x qiymat\n",
    "## pop(x)   -  odatda oxirgi elementni o’chiradi\n",
    "## clear()  -  set turini tozalash\n",
    "## del   set    -   qaytarishlarsiz o’chirib tashlash  \n",
    "## set1.union(set2)   -  ikta set turini birlashtirish\n",
    "## set1.intersection(set2) - ikkita set turini takrorlanuvchi elementlarini chiqaradi\n",
    "## set1.symmetric_difference(set2)   -  ikkita set turini bir-birida bo’lmagan elementlarini chiqaradi"
   ]
  },
  {
   "attachments": {},
   "cell_type": "markdown",
   "metadata": {},
   "source": [
    "# --------------------------"
   ]
  },
  {
   "attachments": {},
   "cell_type": "markdown",
   "metadata": {},
   "source": [
    "## add"
   ]
  },
  {
   "cell_type": "code",
   "execution_count": 1,
   "metadata": {},
   "outputs": [
    {
     "name": "stdout",
     "output_type": "stream",
     "text": [
      "{'banana', 'apple', 'orange', 'cherry'}\n"
     ]
    }
   ],
   "source": [
    "fruits = {\"apple\", \"banana\", \"cherry\"}\n",
    "\n",
    "fruits.add(\"orange\")\n",
    "\n",
    "print(fruits)"
   ]
  },
  {
   "attachments": {},
   "cell_type": "markdown",
   "metadata": {},
   "source": [
    "## update"
   ]
  },
  {
   "cell_type": "code",
   "execution_count": 2,
   "metadata": {},
   "outputs": [
    {
     "name": "stdout",
     "output_type": "stream",
     "text": [
      "{'apple', 'microsoft', 'banana', 'google', 'cherry'}\n"
     ]
    }
   ],
   "source": [
    "x = {\"apple\", \"banana\", \"cherry\"}\n",
    "y = {\"google\", \"microsoft\", \"apple\"}\n",
    "\n",
    "x.update(y) \n",
    "\n",
    "print(x)\n"
   ]
  },
  {
   "cell_type": "code",
   "execution_count": null,
   "metadata": {},
   "outputs": [],
   "source": []
  }
 ],
 "metadata": {
  "kernelspec": {
   "display_name": "Python 3",
   "language": "python",
   "name": "python3"
  },
  "language_info": {
   "codemirror_mode": {
    "name": "ipython",
    "version": 3
   },
   "file_extension": ".py",
   "mimetype": "text/x-python",
   "name": "python",
   "nbconvert_exporter": "python",
   "pygments_lexer": "ipython3",
   "version": "3.10.10"
  },
  "orig_nbformat": 4,
  "vscode": {
   "interpreter": {
    "hash": "aee8b7b246df8f9039afb4144a1f6fd8d2ca17a180786b69acc140d282b71a49"
   }
  }
 },
 "nbformat": 4,
 "nbformat_minor": 2
}
