{
 "cells": [
  {
   "attachments": {},
   "cell_type": "markdown",
   "metadata": {},
   "source": [
    "# if else"
   ]
  },
  {
   "attachments": {},
   "cell_type": "markdown",
   "metadata": {},
   "source": [
    "# If shart operatori bo'lib agar shart bajarilsa :\n",
    "#    va shart yoziladi\n",
    "#    albatta tab yoki to'tta probel tashlanadi"
   ]
  },
  {
   "cell_type": "code",
   "execution_count": 1,
   "metadata": {},
   "outputs": [
    {
     "name": "stdout",
     "output_type": "stream",
     "text": [
      "salom Azamat xush kelibsiz!\n"
     ]
    }
   ],
   "source": [
    "ims = \"Azamat\"\n",
    "if ims == \"Azamat\":\n",
    "    print(\"salom Azamat xush kelibsiz!\")"
   ]
  },
  {
   "cell_type": "code",
   "execution_count": 1,
   "metadata": {},
   "outputs": [
    {
     "name": "stdout",
     "output_type": "stream",
     "text": [
      "good luck (:\n"
     ]
    }
   ],
   "source": [
    "a = 12\n",
    "b = 10\n",
    "if b < a:\n",
    "  print(\"good luck (:\")"
   ]
  },
  {
   "cell_type": "code",
   "execution_count": 2,
   "metadata": {},
   "outputs": [],
   "source": [
    "if a == b:\n",
    "    print(\"tog'ri\")"
   ]
  },
  {
   "attachments": {},
   "cell_type": "markdown",
   "metadata": {},
   "source": [
    "<h5> bu yerda to'g'ri so'zi chiqmaydi demak shart bajarilmadi\n",
    "<h2> bunday vaziyatda bizga else yordam beradi \n",
    "<h1> agar if bajarilmasa else ga o'tadi"
   ]
  },
  {
   "cell_type": "code",
   "execution_count": 3,
   "metadata": {},
   "outputs": [
    {
     "name": "stdout",
     "output_type": "stream",
     "text": [
      "a teng emas b ga\n"
     ]
    }
   ],
   "source": [
    "if a == b:\n",
    "    print(\"tog'ri\")\n",
    "else:\n",
    "    print(\"a teng emas b ga\")    "
   ]
  },
  {
   "attachments": {},
   "cell_type": "markdown",
   "metadata": {},
   "source": [
    "# vazifa: plastik raqam kiritiladi siz uni to'g'ri kirgizganini tekshiring"
   ]
  },
  {
   "cell_type": "code",
   "execution_count": 2,
   "metadata": {},
   "outputs": [
    {
     "name": "stdout",
     "output_type": "stream",
     "text": [
      "hato\n"
     ]
    }
   ],
   "source": [
    "a = input(\"plastik raqamni kirgizing --> \")\n",
    "# a = a.strip()\n",
    "if ('.' or ',' or ':' in a.strip()):\n",
    "    print(\"hato\")\n",
    "else:\n",
    "    print(\"okey\")    \n",
    "# print(a.strip())"
   ]
  },
  {
   "cell_type": "code",
   "execution_count": null,
   "metadata": {},
   "outputs": [],
   "source": []
  }
 ],
 "metadata": {
  "kernelspec": {
   "display_name": "Python 3",
   "language": "python",
   "name": "python3"
  },
  "language_info": {
   "codemirror_mode": {
    "name": "ipython",
    "version": 3
   },
   "file_extension": ".py",
   "mimetype": "text/x-python",
   "name": "python",
   "nbconvert_exporter": "python",
   "pygments_lexer": "ipython3",
   "version": "3.11.2"
  },
  "orig_nbformat": 4
 },
 "nbformat": 4,
 "nbformat_minor": 2
}
